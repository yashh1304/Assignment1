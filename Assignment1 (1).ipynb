{
 "cells": [
  {
   "cell_type": "code",
   "execution_count": null,
   "id": "1b8f9fe1-8f0f-48ae-a118-d20702c2494d",
   "metadata": {},
   "outputs": [],
   "source": [
    "##QUESTION 1\n",
    "\"\"\"while loop - The while loop allows a part of code to be executed as long as given condition is true .It is used in case where number of iteration \n",
    "is not known in advance\" .\n",
    "eg. i =1 \n",
    "while i < 6:\n",
    "    print(i)\n",
    "    i+=1\n",
    "for loop - It is used to iterate the statements or a part of program several times.It is used in case where number of iteration is known in adavnce\n",
    "eg. l = [1 , 2 , 3 , 4 , 5 , 6]\n",
    "for i in l:\n",
    "    print(i)"
   ]
  },
  {
   "cell_type": "code",
   "execution_count": 3,
   "id": "81dcd621-1de6-4f9e-8c84-638dda534522",
   "metadata": {},
   "outputs": [
    {
     "name": "stdout",
     "output_type": "stream",
     "text": [
      "Sum of first 10 natural numbers is ->  55\n"
     ]
    }
   ],
   "source": [
    "##QUESTION 2\n",
    "\n",
    "##Using for loop\n",
    "l=[1 , 2 , 3 , 4 , 5 , 6 , 7 , 8 , 9 , 10]\n",
    "sum = 0\n",
    "for i in l:\n",
    "    sum = sum + i\n",
    "print(\"Sum of first 10 natural numbers is -> \",sum)   "
   ]
  },
  {
   "cell_type": "code",
   "execution_count": 2,
   "id": "0adf6795-f61f-48e0-8f02-792e2ae6df86",
   "metadata": {},
   "outputs": [
    {
     "name": "stdout",
     "output_type": "stream",
     "text": [
      "Product of first 10 natural numbers is ->  3628800\n"
     ]
    }
   ],
   "source": [
    "l=[1 , 2 , 3 , 4 , 5 , 6 , 7 , 8 , 9 , 10]\n",
    "result = 1\n",
    "for i in l:\n",
    "    result = result * i\n",
    "print(\"Product of first 10 natural numbers is -> \",result) "
   ]
  },
  {
   "cell_type": "code",
   "execution_count": 4,
   "id": "1081a6bf-74fe-4e0f-aec8-7a2e580b6bbd",
   "metadata": {},
   "outputs": [
    {
     "name": "stdout",
     "output_type": "stream",
     "text": [
      "Sum of first 10 natural numbers is ->  55\n"
     ]
    }
   ],
   "source": [
    "l=[1 , 2 , 3 , 4 , 5 , 6 , 7 , 8 , 9 , 10]\n",
    "sum = 0\n",
    "i = 1\n",
    "while ( i < 11): \n",
    "    sum = sum + i\n",
    "    i += 1 \n",
    "print(\"Sum of first 10 natural numbers is -> \",sum)    "
   ]
  },
  {
   "cell_type": "code",
   "execution_count": 6,
   "id": "93007603-9251-4855-8474-6f02b6414991",
   "metadata": {},
   "outputs": [
    {
     "name": "stdout",
     "output_type": "stream",
     "text": [
      "Product of first 10 natural numbers is ->  3628800\n"
     ]
    }
   ],
   "source": [
    "l=[1 , 2 , 3 , 4 , 5 , 6 , 7 , 8 , 9 , 10]\n",
    "result = 1\n",
    "i = 1\n",
    "while ( i < 11): \n",
    "    result = result * i\n",
    "    i += 1 \n",
    "print(\"Product of first 10 natural numbers is -> \",result)"
   ]
  },
  {
   "cell_type": "code",
   "execution_count": 9,
   "id": "60862e42-6333-4f37-9427-1d959d485f4e",
   "metadata": {},
   "outputs": [
    {
     "name": "stdin",
     "output_type": "stream",
     "text": [
      "Enter the units of electricity consumed in a month  310\n"
     ]
    },
    {
     "name": "stdout",
     "output_type": "stream",
     "text": [
      "Your bill for this month is ->  2250.0\n"
     ]
    }
   ],
   "source": [
    "##QUESTION 3\n",
    "s  = int(input(\"Enter the units of electricity consumed in a month \" ))\n",
    "if s < 100:\n",
    "    bill = s * 4.5 \n",
    "    print(\"Your bill for this month is -> \",bill)\n",
    "elif s > 100 and s < 200:\n",
    "    bill = (s - 100) * 6 + (100 * 4.5)\n",
    "    print(\"Your bill for this month is -> \",bill)\n",
    "elif s > 200 and s < 300:\n",
    "    bill = (s - 200) * 10 + (100 * 6) + (100 * 4.5)\n",
    "    print(\"Your bill for this month is -> \",bill) \n",
    "else : \n",
    "    bill = (s - 300) * 20 + (100 * 10) + (100 * 6) + (100 * 4.5)\n",
    "    print(\"Your bill for this month is -> \",bill) \n",
    "    "
   ]
  },
  {
   "cell_type": "code",
   "execution_count": 12,
   "id": "6607231f-f782-43b9-b780-aefd11ea9cdb",
   "metadata": {},
   "outputs": [
    {
     "name": "stdout",
     "output_type": "stream",
     "text": [
      "[8, 64, 125, 216, 512, 1000, 1728, 2744, 3375, 4096, 5832, 8000, 10648, 13824, 15625, 17576, 21952, 27000, 32768, 39304, 42875, 46656, 54872, 64000, 74088, 85184, 91125, 97336, 110592, 125000, 140608, 157464, 166375, 175616, 195112, 216000, 238328, 262144, 274625, 287496, 314432, 343000, 373248, 405224, 421875, 438976, 474552, 512000, 551368, 592704, 614125, 636056, 681472, 729000, 778688, 830584, 857375, 884736, 941192, 1000000]\n"
     ]
    }
   ],
   "source": [
    "##QUESTION 4\n",
    "l1 = [] \n",
    "list(range(1 , 101))\n",
    "for i in (range(1 , 101)):\n",
    "    num = i * i * i\n",
    "    if num % 4 == 0 or num % 5 == 0:\n",
    "        l1.append(num)\n",
    "print(l1)    "
   ]
  },
  {
   "cell_type": "code",
   "execution_count": 13,
   "id": "0e2f73c9-d4f0-4152-ab59-eef5aff65043",
   "metadata": {},
   "outputs": [
    {
     "name": "stdout",
     "output_type": "stream",
     "text": [
      "[8, 64, 125, 216, 512, 1000, 1728, 2744, 3375, 4096, 5832, 8000, 10648, 13824, 15625, 17576, 21952, 27000, 32768, 39304, 42875, 46656, 54872, 64000, 74088, 85184, 91125, 97336, 110592, 125000, 140608, 157464, 166375, 175616, 195112, 216000, 238328, 262144, 274625, 287496, 314432, 343000, 373248, 405224, 421875, 438976, 474552, 512000, 551368, 592704, 614125, 636056, 681472, 729000, 778688, 830584, 857375, 884736, 941192, 1000000]\n"
     ]
    }
   ],
   "source": [
    "l1 = [] \n",
    "list(range(1 , 101))\n",
    "i = 1\n",
    "while i < 101:\n",
    "    num = i * i * i\n",
    "    if num % 4 == 0 or num % 5 == 0:\n",
    "        l1.append(num)\n",
    "    i += 1\n",
    "print(l1)    "
   ]
  },
  {
   "cell_type": "code",
   "execution_count": 21,
   "id": "9b94c62a-9d22-4c4e-9cc5-aa49ced1c05b",
   "metadata": {},
   "outputs": [
    {
     "name": "stdout",
     "output_type": "stream",
     "text": [
      "Total number of vowels in given string are ->  12\n"
     ]
    }
   ],
   "source": [
    "##QUESTION 5\n",
    "string = \"I want to become a data scientist\"\n",
    "count = 0\n",
    "for i in string:\n",
    "    if i == 'A' or i == 'E' or  i == 'I' or i == 'O' or i == 'U' or i == 'a' or i == 'e' or i == 'i' or i == 'o' or i == 'u':\n",
    "        count = count + 1\n",
    "print(\"Total number of vowels in given string are -> \",count)        "
   ]
  },
  {
   "cell_type": "code",
   "execution_count": null,
   "id": "12054af7-c54d-4750-ac2d-b42c26f899a5",
   "metadata": {},
   "outputs": [],
   "source": []
  }
 ],
 "metadata": {
  "kernelspec": {
   "display_name": "Python 3 (ipykernel)",
   "language": "python",
   "name": "python3"
  },
  "language_info": {
   "codemirror_mode": {
    "name": "ipython",
    "version": 3
   },
   "file_extension": ".py",
   "mimetype": "text/x-python",
   "name": "python",
   "nbconvert_exporter": "python",
   "pygments_lexer": "ipython3",
   "version": "3.10.8"
  }
 },
 "nbformat": 4,
 "nbformat_minor": 5
}
